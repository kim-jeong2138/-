{
 "cells": [
  {
   "cell_type": "code",
   "execution_count": 1,
   "metadata": {},
   "outputs": [],
   "source": [
    "import numpy as np\n",
    "import tensorflow as tf\n",
    "import matplotlib.pyplot as plt\n",
    "%matplotlib inline\n",
    "\n",
    "from tensorflow.keras import datasets\n",
    "from tensorflow.keras import layers"
   ]
  },
  {
   "cell_type": "code",
   "execution_count": 5,
   "metadata": {},
   "outputs": [],
   "source": [
    "def mymodel2(input_shape, num_classes):\n",
    "    inputs= layers.Input(shape=input_shape)\n",
    "\n",
    "    #cnn의 역할: feature extraction, feature map을 만들어주는 역할 \n",
    "    net = layers.Conv2D(32,3,1,padding='SAME')(inputs)\n",
    "    net = layers.Activation('relu')(net)\n",
    "    net = layers.Conv2D(32,3,1,padding='SAME')(net)\n",
    "    net = layers.Activation('relu')(net)\n",
    "    net = layers.MaxPool2D(pool_size=(2,2))(net)\n",
    "    net = layers.Dropout(0.25)(net)\n",
    "\n",
    "    net = layers.Conv2D(64,3,1,padding='SAME')(net)\n",
    "    net = layers.Activation('relu')(net)\n",
    "    net = layers.Conv2D(64,3,1,padding='SAME')(net)\n",
    "    net = layers.Activation('relu')(net)\n",
    "    net = layers.MaxPool2D(pool_size=(2,2))(net)\n",
    "    net = layers.Dropout(0.25)(net)\n",
    "\n",
    "    net = layers.Flatten()(net) #2D->1D\n",
    "    net = layers.Dense(512)(net)\n",
    "    net = layers.Activation('relu')(net)\n",
    "    net = layers.Dropout(0.25)(net)\n",
    "#     net = layers.Dense(128)(net)\n",
    "#     net = layers.Activation('relu')(net)\n",
    "    net = layers.Dense(num_classes)(net)\n",
    "    net = layers.Activation('softmax')(net)\n",
    "\n",
    "    model = tf.keras.Model(inputs=inputs, outputs= net, name='test')\n",
    "    return model"
   ]
  },
  {
   "cell_type": "code",
   "execution_count": 6,
   "metadata": {},
   "outputs": [],
   "source": [
    "input_shape=(28,28,1)\n",
    "num_classes=10\n",
    "model =mymodel2(input_shape, num_classes)"
   ]
  },
  {
   "cell_type": "code",
   "execution_count": 7,
   "metadata": {},
   "outputs": [],
   "source": [
    "model.compile(optimizer=tf.keras.optimizers.Adam(), loss='sparse_categorical_crossentropy', metrics=['accuracy'])"
   ]
  },
  {
   "cell_type": "code",
   "execution_count": 8,
   "metadata": {},
   "outputs": [
    {
     "data": {
      "text/plain": [
       "(60000, 28, 28, 1)"
      ]
     },
     "execution_count": 8,
     "metadata": {},
     "output_type": "execute_result"
    }
   ],
   "source": [
    "(train_x, train_y), (test_x, test_y) = datasets.mnist.load_data()\n",
    "train_x_4d=train_x[...,tf.newaxis]/255\n",
    "train_x_4d.shape"
   ]
  },
  {
   "cell_type": "code",
   "execution_count": 9,
   "metadata": {},
   "outputs": [
    {
     "data": {
      "text/plain": [
       "(1.0, 0.0)"
      ]
     },
     "execution_count": 9,
     "metadata": {},
     "output_type": "execute_result"
    }
   ],
   "source": [
    "np.max(train_x_4d), np.min(train_x_4d)"
   ]
  },
  {
   "cell_type": "code",
   "execution_count": 10,
   "metadata": {},
   "outputs": [
    {
     "data": {
      "image/png": "[encoded data removed]",
      "text/plain": [
       "<Figure size 432x288 with 1 Axes>"
      ]
     },
     "metadata": {
      "needs_background": "light"
     },
     "output_type": "display_data"
    }
   ],
   "source": [
    "#plt.imshow(np.squeeze(train_x_4d[0]),'gray')\n",
    "plt.imshow(train_x_4d[0].reshape(28,28), 'gray')\n",
    "plt.show()"
   ]
  },
  {
   "cell_type": "code",
   "execution_count": 11,
   "metadata": {},
   "outputs": [
    {
     "name": "stdout",
     "output_type": "stream",
     "text": [
      "1875/1875 [==============================] - 343s 183ms/step - loss: 0.1314 - accuracy: 0.9590\n"
     ]
    }
   ],
   "source": [
    "num_epoch = 1\n",
    "batch_size= 32#메모리 오류나면 숫자를 줄여보기\n",
    "hist = model.fit(train_x_4d, train_y, batch_size= batch_size, shuffle=True, epochs=num_epoch)"
   ]
  },
  {
   "cell_type": "code",
   "execution_count": 12,
   "metadata": {},
   "outputs": [
    {
     "data": {
      "text/plain": [
       "{'loss': [0.1314302533864975], 'accuracy': [0.9589833617210388]}"
      ]
     },
     "execution_count": 12,
     "metadata": {},
     "output_type": "execute_result"
    }
   ],
   "source": [
    "hist.history"
   ]
  },
  {
   "cell_type": "markdown",
   "metadata": {},
   "source": [
    "https://keras.io/api/optimizers/"
   ]
  },
  {
   "cell_type": "markdown",
   "metadata": {},
   "source": [
    "## learining rate(lr) scheduler, check point 사용"
   ]
  },
  {
   "cell_type": "code",
   "execution_count": 14,
   "metadata": {},
   "outputs": [
    {
     "name": "stdout",
     "output_type": "stream",
     "text": [
      "11 0.0009048374180359595\n"
     ]
    }
   ],
   "source": [
    "import math\n",
    "\n",
    "epoch =11\n",
    "\n",
    "if epoch <10:\n",
    "    lr= 0.001\n",
    "else:\n",
    "    lr=0.001* math.exp(0.1*(10-epoch)) \n",
    "    \n",
    "print(epoch, lr)"
   ]
  },
  {
   "cell_type": "code",
   "execution_count": 16,
   "metadata": {},
   "outputs": [
    {
     "name": "stdout",
     "output_type": "stream",
     "text": [
      "0 0.001\n",
      "1 0.001\n",
      "2 0.001\n",
      "3 0.001\n",
      "4 0.001\n",
      "5 0.001\n",
      "6 0.001\n",
      "7 0.001\n",
      "8 0.001\n",
      "9 0.001\n",
      "10 0.001\n",
      "11 0.0009048374180359595\n",
      "12 0.0008187307530779819\n",
      "13 0.0007408182206817179\n",
      "14 0.0006703200460356394\n",
      "15 0.0006065306597126335\n",
      "16 0.0005488116360940264\n",
      "17 0.0004965853037914095\n",
      "18 0.0004493289641172216\n",
      "19 0.00040656965974059914\n"
     ]
    }
   ],
   "source": [
    "import math\n",
    "\n",
    "for epoch in range(20):\n",
    "\n",
    "    if epoch <10:\n",
    "        lr= 0.001\n",
    "    else:\n",
    "        lr=0.001* math.exp(0.1*(10-epoch)) \n",
    "\n",
    "    print(epoch, lr)"
   ]
  },
  {
   "cell_type": "code",
   "execution_count": 24,
   "metadata": {},
   "outputs": [],
   "source": [
    "import math\n",
    "\n",
    "def scheduler(epoch):\n",
    "\n",
    "    if epoch <10:\n",
    "        return 0.001\n",
    "    else:\n",
    "        return 0.001* math.exp(0.1*(10-epoch))\n",
    "        "
   ]
  },
  {
   "cell_type": "code",
   "execution_count": 25,
   "metadata": {},
   "outputs": [],
   "source": [
    "learning_rate_scheduler=tf.keras.callbacks.LearningRateScheduler(scheduler, verbose=1)"
   ]
  },
  {
   "cell_type": "code",
   "execution_count": 29,
   "metadata": {},
   "outputs": [],
   "source": [
    "save_path='checkpoints'\n",
    "checkpoint= tf.keras.callbacks.ModelCheckpoint(save_path, monitor='accuary',verbose=1, save_best_only=True, mode='max')\n",
    "#checkpoint= tf.keras.callbacks.ModelCheckpoint(save_path, monitor='loss',verbose=1, save_best_only=True, mode='min')"
   ]
  },
  {
   "cell_type": "code",
   "execution_count": 30,
   "metadata": {},
   "outputs": [
    {
     "name": "stdout",
     "output_type": "stream",
     "text": [
      "\n",
      "Epoch 00001: LearningRateScheduler reducing learning rate to 0.001.\n",
      "Epoch 1/11\n",
      "1875/1875 [==============================] - ETA: 0s - loss: 0.0262 - accuracy: 0.9920WARNING:tensorflow:Can save best model only with accuary available, skipping.\n",
      "1875/1875 [==============================] - 342s 183ms/step - loss: 0.0262 - accuracy: 0.9920\n",
      "\n",
      "Epoch 00002: LearningRateScheduler reducing learning rate to 0.001.\n",
      "Epoch 2/11\n",
      "1875/1875 [==============================] - ETA: 0s - loss: 0.0223 - accuracy: 0.9930WARNING:tensorflow:Can save best model only with accuary available, skipping.\n",
      "1875/1875 [==============================] - 326s 174ms/step - loss: 0.0223 - accuracy: 0.9930\n",
      "\n",
      "Epoch 00003: LearningRateScheduler reducing learning rate to 0.001.\n",
      "Epoch 3/11\n",
      "1875/1875 [==============================] - ETA: 0s - loss: 0.0210 - accuracy: 0.9934WARNING:tensorflow:Can save best model only with accuary available, skipping.\n",
      "1875/1875 [==============================] - 338s 181ms/step - loss: 0.0210 - accuracy: 0.9934\n",
      "\n",
      "Epoch 00004: LearningRateScheduler reducing learning rate to 0.001.\n",
      "Epoch 4/11\n",
      "1875/1875 [==============================] - ETA: 0s - loss: 0.0181 - accuracy: 0.9945WARNING:tensorflow:Can save best model only with accuary available, skipping.\n",
      "1875/1875 [==============================] - 335s 178ms/step - loss: 0.0181 - accuracy: 0.9945\n",
      "\n",
      "Epoch 00005: LearningRateScheduler reducing learning rate to 0.001.\n",
      "Epoch 5/11\n",
      "1875/1875 [==============================] - ETA: 0s - loss: 0.0168 - accuracy: 0.9947 ETA: 0s - loss: 0.0168 - accuracyWARNING:tensorflow:Can save best model only with accuary available, skipping.\n",
      "1875/1875 [==============================] - 279s 149ms/step - loss: 0.0168 - accuracy: 0.9947\n",
      "\n",
      "Epoch 00006: LearningRateScheduler reducing learning rate to 0.001.\n",
      "Epoch 6/11\n",
      "1875/1875 [==============================] - ETA: 0s - loss: 0.0144 - accuracy: 0.9955WARNING:tensorflow:Can save best model only with accuary available, skipping.\n",
      "1875/1875 [==============================] - 294s 157ms/step - loss: 0.0144 - accuracy: 0.9955\n",
      "\n",
      "Epoch 00007: LearningRateScheduler reducing learning rate to 0.001.\n",
      "Epoch 7/11\n",
      "1875/1875 [==============================] - ETA: 0s - loss: 0.0148 - accuracy: 0.9955WARNING:tensorflow:Can save best model only with accuary available, skipping.\n",
      "1875/1875 [==============================] - 302s 161ms/step - loss: 0.0148 - accuracy: 0.9955\n",
      "\n",
      "Epoch 00008: LearningRateScheduler reducing learning rate to 0.001.\n",
      "Epoch 8/11\n",
      "1875/1875 [==============================] - ETA: 0s - loss: 0.0130 - accuracy: 0.9961WARNING:tensorflow:Can save best model only with accuary available, skipping.\n",
      "1875/1875 [==============================] - 304s 162ms/step - loss: 0.0130 - accuracy: 0.9961\n",
      "\n",
      "Epoch 00009: LearningRateScheduler reducing learning rate to 0.001.\n",
      "Epoch 9/11\n",
      "1875/1875 [==============================] - ETA: 0s - loss: 0.0141 - accuracy: 0.9957WARNING:tensorflow:Can save best model only with accuary available, skipping.\n",
      "1875/1875 [==============================] - 307s 164ms/step - loss: 0.0141 - accuracy: 0.9957\n",
      "\n",
      "Epoch 00010: LearningRateScheduler reducing learning rate to 0.001.\n",
      "Epoch 10/11\n",
      "1875/1875 [==============================] - ETA: 0s - loss: 0.0129 - accuracy: 0.9961WARNING:tensorflow:Can save best model only with accuary available, skipping.\n",
      "1875/1875 [==============================] - 303s 162ms/step - loss: 0.0129 - accuracy: 0.9961\n",
      "\n",
      "Epoch 00011: LearningRateScheduler reducing learning rate to 0.001.\n",
      "Epoch 11/11\n",
      "1875/1875 [==============================] - ETA: 0s - loss: 0.0111 - accuracy: 0.9966WARNING:tensorflow:Can save best model only with accuary available, skipping.\n",
      "1875/1875 [==============================] - 304s 162ms/step - loss: 0.0111 - accuracy: 0.9966\n"
     ]
    }
   ],
   "source": [
    "num_epoch = 11\n",
    "batch_size= 32 #메모리 오류나면 숫자를 줄여보기\n",
    "hist = model.fit(train_x_4d, train_y, batch_size= batch_size, shuffle=True, epochs=num_epoch, callbacks=[learning_rate_scheduler, checkpoint])"
   ]
  },
  {
   "cell_type": "code",
   "execution_count": 31,
   "metadata": {},
   "outputs": [
    {
     "data": {
      "text/plain": [
       "array([[0., 0., 0., 0., 0., 0., 0., 1., 0., 0.]], dtype=float32)"
      ]
     },
     "execution_count": 31,
     "metadata": {},
     "output_type": "execute_result"
    }
   ],
   "source": [
    "test_img = test_x[0]\n",
    "pred = model.predict(test_img.reshape(1,28,28,1))\n",
    "pred"
   ]
  },
  {
   "cell_type": "code",
   "execution_count": 32,
   "metadata": {},
   "outputs": [
    {
     "data": {
      "text/plain": [
       "7"
      ]
     },
     "execution_count": 32,
     "metadata": {},
     "output_type": "execute_result"
    }
   ],
   "source": [
    "np.argmax(pred)"
   ]
  },
  {
   "cell_type": "code",
   "execution_count": 33,
   "metadata": {},
   "outputs": [
    {
     "data": {
      "text/plain": [
       "((10000, 28, 28), (10000,))"
      ]
     },
     "execution_count": 33,
     "metadata": {},
     "output_type": "execute_result"
    }
   ],
   "source": [
    "test_x.shape, test_y.shape"
   ]
  },
  {
   "cell_type": "code",
   "execution_count": 34,
   "metadata": {},
   "outputs": [
    {
     "data": {
      "text/plain": [
       "(10000, 28, 28, 1)"
      ]
     },
     "execution_count": 34,
     "metadata": {},
     "output_type": "execute_result"
    }
   ],
   "source": [
    "test_x_4d = test_x[..., tf.newaxis]\n",
    "test_x_4d.shape"
   ]
  },
  {
   "cell_type": "code",
   "execution_count": 35,
   "metadata": {},
   "outputs": [],
   "source": [
    "test_x_4d= test_x_4d/255"
   ]
  },
  {
   "cell_type": "code",
   "execution_count": 36,
   "metadata": {},
   "outputs": [
    {
     "name": "stdout",
     "output_type": "stream",
     "text": [
      "313/313 [==============================] - 10s 31ms/step - loss: 0.0256 - accuracy: 0.99330s - loss: 0.0257 - accuracy: 0.\n"
     ]
    },
    {
     "data": {
      "text/plain": [
       "[0.025614874437451363, 0.9933000206947327]"
      ]
     },
     "execution_count": 36,
     "metadata": {},
     "output_type": "execute_result"
    }
   ],
   "source": [
    "model.evaluate(test_x_4d, test_y, batch_size=batch_size)"
   ]
  },
  {
   "cell_type": "code",
   "execution_count": 37,
   "metadata": {},
   "outputs": [],
   "source": [
    "pred = model.predict(test_x_4d)"
   ]
  },
  {
   "cell_type": "code",
   "execution_count": 38,
   "metadata": {},
   "outputs": [
    {
     "data": {
      "text/plain": [
       "(10000, 10)"
      ]
     },
     "execution_count": 38,
     "metadata": {},
     "output_type": "execute_result"
    }
   ],
   "source": [
    "pred.shape"
   ]
  },
  {
   "cell_type": "code",
   "execution_count": 39,
   "metadata": {},
   "outputs": [
    {
     "data": {
      "text/plain": [
       "array([2.5266674e-18, 1.0957884e-12, 1.7081738e-12, 3.0448772e-15,\n",
       "       1.3341837e-13, 5.8303143e-19, 3.4921037e-21, 1.0000000e+00,\n",
       "       1.1955793e-15, 1.6212382e-12], dtype=float32)"
      ]
     },
     "execution_count": 39,
     "metadata": {},
     "output_type": "execute_result"
    }
   ],
   "source": [
    "pred[0]"
   ]
  },
  {
   "cell_type": "code",
   "execution_count": 40,
   "metadata": {},
   "outputs": [],
   "source": [
    "result=np.argmax(pred, axis=1) #axis:10개중에 어느게 크냐 인덱스 반환"
   ]
  },
  {
   "cell_type": "code",
   "execution_count": 41,
   "metadata": {},
   "outputs": [
    {
     "data": {
      "text/plain": [
       "((10000,), array([7, 2, 1, ..., 4, 5, 6], dtype=int64))"
      ]
     },
     "execution_count": 41,
     "metadata": {},
     "output_type": "execute_result"
    }
   ],
   "source": [
    "result.shape, result"
   ]
  },
  {
   "cell_type": "code",
   "execution_count": 42,
   "metadata": {},
   "outputs": [
    {
     "data": {
      "text/plain": [
       "((10000,), array([7, 2, 1, ..., 4, 5, 6], dtype=uint8))"
      ]
     },
     "execution_count": 42,
     "metadata": {},
     "output_type": "execute_result"
    }
   ],
   "source": [
    "test_y.shape, test_y"
   ]
  },
  {
   "cell_type": "code",
   "execution_count": 44,
   "metadata": {},
   "outputs": [
    {
     "name": "stdout",
     "output_type": "stream",
     "text": [
      "index, result, test_y 199 3 2\n",
      "index, result, test_y 321 7 2\n",
      "index, result, test_y 445 0 6\n",
      "index, result, test_y 659 1 2\n",
      "index, result, test_y 674 3 5\n",
      "index, result, test_y 740 9 4\n",
      "index, result, test_y 924 7 2\n",
      "index, result, test_y 947 9 8\n",
      "index, result, test_y 1014 0 6\n",
      "index, result, test_y 1182 5 6\n",
      "index, result, test_y 1247 5 9\n",
      "index, result, test_y 1260 1 7\n",
      "index, result, test_y 1393 3 5\n",
      "index, result, test_y 1459 3 2\n",
      "index, result, test_y 1654 3 2\n",
      "index, result, test_y 1878 3 8\n",
      "index, result, test_y 1901 4 9\n",
      "index, result, test_y 2093 0 8\n",
      "index, result, test_y 2118 4 6\n",
      "index, result, test_y 2129 8 9\n",
      "index, result, test_y 2130 9 4\n",
      "index, result, test_y 2135 1 6\n",
      "index, result, test_y 2182 3 1\n",
      "index, result, test_y 2293 4 9\n",
      "index, result, test_y 2406 4 9\n",
      "index, result, test_y 2447 9 4\n",
      "index, result, test_y 2462 0 2\n",
      "index, result, test_y 2597 3 5\n",
      "index, result, test_y 2654 1 6\n",
      "index, result, test_y 2771 9 4\n",
      "index, result, test_y 2939 5 9\n",
      "index, result, test_y 2953 5 3\n",
      "index, result, test_y 3225 9 7\n",
      "index, result, test_y 3267 3 2\n",
      "index, result, test_y 3422 0 6\n",
      "index, result, test_y 3475 7 3\n",
      "index, result, test_y 3558 0 5\n",
      "index, result, test_y 3808 8 7\n",
      "index, result, test_y 3976 1 7\n",
      "index, result, test_y 4027 1 7\n",
      "index, result, test_y 4199 9 7\n",
      "index, result, test_y 4360 3 5\n",
      "index, result, test_y 4369 4 9\n",
      "index, result, test_y 4571 3 6\n",
      "index, result, test_y 4639 9 8\n",
      "index, result, test_y 4699 1 6\n",
      "index, result, test_y 4823 4 9\n",
      "index, result, test_y 4874 0 9\n",
      "index, result, test_y 5937 3 5\n",
      "index, result, test_y 6166 8 9\n",
      "index, result, test_y 6173 8 9\n",
      "index, result, test_y 6571 7 9\n",
      "index, result, test_y 6576 1 7\n",
      "index, result, test_y 6597 7 0\n",
      "index, result, test_y 6625 4 8\n",
      "index, result, test_y 6847 4 6\n",
      "index, result, test_y 8094 8 2\n",
      "index, result, test_y 8102 3 2\n",
      "index, result, test_y 9015 2 7\n",
      "index, result, test_y 9634 1 0\n",
      "index, result, test_y 9638 7 9\n",
      "index, result, test_y 9642 7 9\n",
      "index, result, test_y 9664 7 2\n",
      "index, result, test_y 9679 2 6\n",
      "index, result, test_y 9692 7 9\n",
      "index, result, test_y 9729 6 5\n",
      "index, result, test_y 9839 7 2\n",
      "67 err rate= 0.0067\n"
     ]
    }
   ],
   "source": [
    "count=0\n",
    "for index in range(len(test_y)):\n",
    "    if result[index]!=test_y[index]:\n",
    "        print('index, result, test_y', index, result[index], test_y[index])\n",
    "        count +=1\n",
    "print(count, 'err rate=',count/len(test_y))"
   ]
  },
  {
   "cell_type": "code",
   "execution_count": 45,
   "metadata": {},
   "outputs": [
    {
     "data": {
      "text/plain": [
       "0.9933"
      ]
     },
     "execution_count": 45,
     "metadata": {},
     "output_type": "execute_result"
    }
   ],
   "source": [
    "accuaray= 1-count/len(test_y)\n",
    "accuaray"
   ]
  },
  {
   "cell_type": "code",
   "execution_count": 46,
   "metadata": {},
   "outputs": [
    {
     "name": "stdout",
     "output_type": "stream",
     "text": [
      "0 6\n"
     ]
    },
    {
     "data": {
      "image/png": "[encoded data removed]",
      "text/plain": [
       "<Figure size 432x288 with 1 Axes>"
      ]
     },
     "metadata": {
      "needs_background": "light"
     },
     "output_type": "display_data"
    }
   ],
   "source": [
    "index=445\n",
    "print(result[index], test_y[index])\n",
    "plt.imshow(test_x[index].reshape(28,28), 'gray')\n",
    "plt.show()"
   ]
  },
  {
   "cell_type": "code",
   "execution_count": null,
   "metadata": {},
   "outputs": [],
   "source": []
  }
 ],
 "metadata": {
  "kernelspec": {
   "display_name": "Python 3",
   "language": "python",
   "name": "python3"
  },
  "language_info": {
   "codemirror_mode": {
    "name": "ipython",
    "version": 3
   },
   "file_extension": ".py",
   "mimetype": "text/x-python",
   "name": "python",
   "nbconvert_exporter": "python",
   "pygments_lexer": "ipython3",
   "version": "3.7.9"
  }
 },
 "nbformat": 4,
 "nbformat_minor": 4
}
