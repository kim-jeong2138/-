{
 "cells": [
  {
   "cell_type": "markdown",
   "metadata": {},
   "source": [
    "# 함수 연습문제"
   ]
  },
  {
   "cell_type": "code",
   "execution_count": 1,
   "metadata": {},
   "outputs": [],
   "source": [
    "def mean(nums):\n",
    "    _sum = 0\n",
    "    for value in nums:\n",
    "        _sum += value\n",
    "    return (_sum/len(nums))\n"
   ]
  },
  {
   "cell_type": "code",
   "execution_count": 2,
   "metadata": {},
   "outputs": [
    {
     "name": "stdout",
     "output_type": "stream",
     "text": [
      "20.0\n"
     ]
    }
   ],
   "source": [
    "a = [10, 20, 30]\n",
    "b = mean(a)\n",
    "print(b)"
   ]
  },
  {
   "cell_type": "code",
   "execution_count": 3,
   "metadata": {},
   "outputs": [
    {
     "name": "stdout",
     "output_type": "stream",
     "text": [
      "range(0, 100)\n"
     ]
    }
   ],
   "source": [
    "a = range(100)\n",
    "print(a)"
   ]
  },
  {
   "cell_type": "code",
   "execution_count": 4,
   "metadata": {},
   "outputs": [
    {
     "name": "stdout",
     "output_type": "stream",
     "text": [
      "[0, 1, 2, 3, 4, 5, 6, 7, 8, 9, 10, 11, 12, 13, 14, 15, 16, 17, 18, 19, 20, 21, 22, 23, 24, 25, 26, 27, 28, 29, 30, 31, 32, 33, 34, 35, 36, 37, 38, 39, 40, 41, 42, 43, 44, 45, 46, 47, 48, 49, 50, 51, 52, 53, 54, 55, 56, 57, 58, 59, 60, 61, 62, 63, 64, 65, 66, 67, 68, 69, 70, 71, 72, 73, 74, 75, 76, 77, 78, 79, 80, 81, 82, 83, 84, 85, 86, 87, 88, 89, 90, 91, 92, 93, 94, 95, 96, 97, 98, 99]\n",
      "49.5\n"
     ]
    }
   ],
   "source": [
    "a = list(range(100))\n",
    "print(a)\n",
    "print(mean(a))"
   ]
  },
  {
   "cell_type": "code",
   "execution_count": 5,
   "metadata": {},
   "outputs": [],
   "source": [
    "# 소수 찾기: prime number, (ex) 10 -> % 연산을 2~9까지 수행하여 나머지가 0인지 확인 \n",
    "def is_prime(num):\n",
    "    for i in range(2,num):\n",
    "        if num % i == 0: \n",
    "            return(False)\n",
    "    return(True)"
   ]
  },
  {
   "cell_type": "code",
   "execution_count": 6,
   "metadata": {},
   "outputs": [
    {
     "name": "stdout",
     "output_type": "stream",
     "text": [
      "True\n"
     ]
    }
   ],
   "source": [
    "print(is_prime(5))"
   ]
  },
  {
   "cell_type": "code",
   "execution_count": 7,
   "metadata": {},
   "outputs": [
    {
     "name": "stdout",
     "output_type": "stream",
     "text": [
      "False\n"
     ]
    }
   ],
   "source": [
    "print(is_prime(25))"
   ]
  },
  {
   "cell_type": "code",
   "execution_count": 8,
   "metadata": {},
   "outputs": [],
   "source": [
    "#입력된 숫자보다 작은 소수를 모두 찾기\n",
    "def find_primes(num):\n",
    "    for i in range(2,num+1):\n",
    "        if is_prime(i):\n",
    "            print(i)"
   ]
  },
  {
   "cell_type": "code",
   "execution_count": 9,
   "metadata": {},
   "outputs": [
    {
     "name": "stdout",
     "output_type": "stream",
     "text": [
      "2\n",
      "3\n",
      "5\n",
      "7\n"
     ]
    }
   ],
   "source": [
    "find_primes(10)"
   ]
  },
  {
   "cell_type": "code",
   "execution_count": 10,
   "metadata": {},
   "outputs": [
    {
     "name": "stdout",
     "output_type": "stream",
     "text": [
      "2\n",
      "3\n",
      "5\n",
      "7\n",
      "11\n",
      "13\n",
      "17\n",
      "19\n",
      "23\n",
      "29\n"
     ]
    }
   ],
   "source": [
    "find_primes(30)"
   ]
  },
  {
   "cell_type": "markdown",
   "metadata": {},
   "source": [
    "## 모듈\n",
    " - 자주 사용되는 함수를 미리 함수로 만들어 라이버리화 한 것을 모듈이라고 함\n",
    "    - numpy: 수치해석 모듈\n",
    "    - pandas: 데이터 분석 모듈\n",
    "    - request: HTTP 요청/음답 모듈\n",
    "    - math: 수학연산\n",
    " - 모듈 불러오기: import (C에서 #include)"
   ]
  },
  {
   "cell_type": "code",
   "execution_count": 12,
   "metadata": {},
   "outputs": [
    {
     "data": {
      "text/plain": [
       "'<!DOCTYPE html PUBLIC \"-//W3C//DTD XHTML 1.0 Transitional//EN\" \"http://www.w3.org/TR/xhtml1/DTD/xhtml1-transitional.dtd\">\\n<html xmlns=\"http://www.w3.org/1999/xhtml\">\\n<head>\\n<meta http-equiv=\"X-UA-Compatible\" content=\"IE=10, chrome=1\">\\n<meta http-equiv=\"content-type\" content=\"text/html; charset=euc-kr\">\\n<TITLE>ÃæºÏ´ëÇÐ±³ ÀüÀÚÁ¤º¸´ëÇÐ Á¤º¸Åë½Å°øÇÐºÎ</TITLE>\\n</head>\\n<frameset rows=\"0%, 1*\" border=\"0\">\\n<frame src=\"noframe.php\" noresize scrolling=\"no\" marginwidth=\"0\" marginheight=\"0\" name=\"noframe\">\\n<frame src=\"index.php\" name=\"main\">\\n<noframes>\\n<body bgcolor=\"white\" text=\"black\" link=\"blue\" vlink=\"purple\" alink=\"red\">\\nÀÌ ÆäÀÌÁö¸¦ º¸·Á¸é, ÇÁ·¹ÀÓÀ» º¼ ¼ö ÀÖ´Â ºê¶ó¿ìÀú°¡ ÇÊ¿äÇÕ´Ï´Ù.\\n</body>\\n</noframes>\\n</frameset>\\n</html>\\n'"
      ]
     },
     "execution_count": 12,
     "metadata": {},
     "output_type": "execute_result"
    }
   ],
   "source": [
    "import requests\n",
    "resp = requests.get('http://inform.cbnu.ac.kr')\n",
    "resp.text"
   ]
  },
  {
   "cell_type": "code",
   "execution_count": 13,
   "metadata": {},
   "outputs": [
    {
     "ename": "NameError",
     "evalue": "name 'sin' is not defined",
     "output_type": "error",
     "traceback": [
      "\u001b[1;31m---------------------------------------------------------------------------\u001b[0m",
      "\u001b[1;31mNameError\u001b[0m                                 Traceback (most recent call last)",
      "\u001b[1;32m<ipython-input-13-4cc6d99df973>\u001b[0m in \u001b[0;36m<module>\u001b[1;34m\u001b[0m\n\u001b[1;32m----> 1\u001b[1;33m \u001b[0msin\u001b[0m\u001b[1;33m(\u001b[0m\u001b[1;36m100\u001b[0m\u001b[1;33m)\u001b[0m\u001b[1;33m\u001b[0m\u001b[1;33m\u001b[0m\u001b[0m\n\u001b[0m",
      "\u001b[1;31mNameError\u001b[0m: name 'sin' is not defined"
     ]
    }
   ],
   "source": [
    "sin(100)"
   ]
  },
  {
   "cell_type": "code",
   "execution_count": 14,
   "metadata": {},
   "outputs": [
    {
     "data": {
      "text/plain": [
       "-0.5063656411097588"
      ]
     },
     "execution_count": 14,
     "metadata": {},
     "output_type": "execute_result"
    }
   ],
   "source": [
    "import math #C에서 #include<math.h>\n",
    "math.sin(100)"
   ]
  },
  {
   "cell_type": "code",
   "execution_count": 15,
   "metadata": {},
   "outputs": [
    {
     "data": {
      "text/plain": [
       "-0.5063656411097588"
      ]
     },
     "execution_count": 15,
     "metadata": {},
     "output_type": "execute_result"
    }
   ],
   "source": [
    "from math import sin\n",
    "sin(100)"
   ]
  },
  {
   "cell_type": "code",
   "execution_count": 16,
   "metadata": {},
   "outputs": [
    {
     "name": "stdout",
     "output_type": "stream",
     "text": [
      "-0.5063656411097588 0.8623188722876839 3.141592653589793 2.718281828459045\n"
     ]
    }
   ],
   "source": [
    "from math import * #전부\n",
    "print(sin(100),cos(100),pi,e)"
   ]
  },
  {
   "cell_type": "code",
   "execution_count": 17,
   "metadata": {},
   "outputs": [
    {
     "name": "stdout",
     "output_type": "stream",
     "text": [
      "-0.5063656411097588 0.8623188722876839 3.141592653589793\n"
     ]
    }
   ],
   "source": [
    "import math as m\n",
    "print(m.sin(100), m.cos(100), m.pi)"
   ]
  },
  {
   "cell_type": "markdown",
   "metadata": {},
   "source": [
    "## 클래스, 오프젝트"
   ]
  },
  {
   "cell_type": "code",
   "execution_count": 18,
   "metadata": {},
   "outputs": [],
   "source": [
    "class Person:\n",
    "    pass "
   ]
  },
  {
   "cell_type": "code",
   "execution_count": 19,
   "metadata": {},
   "outputs": [
    {
     "name": "stdout",
     "output_type": "stream",
     "text": [
      "<class '__main__.Person'> <__main__.Person object at 0x000001C79D9663C8>\n"
     ]
    }
   ],
   "source": [
    "kang = Person()\n",
    "print(type(kang),kang)"
   ]
  },
  {
   "cell_type": "code",
   "execution_count": 20,
   "metadata": {},
   "outputs": [
    {
     "name": "stdout",
     "output_type": "stream",
     "text": [
      "<class 'list'> []\n"
     ]
    }
   ],
   "source": [
    "a = list() #a = []\n",
    "print(type(a),a)"
   ]
  },
  {
   "cell_type": "markdown",
   "metadata": {},
   "source": [
    "## 생성자(constructor) \n",
    "#### **중요"
   ]
  },
  {
   "cell_type": "code",
   "execution_count": 21,
   "metadata": {},
   "outputs": [],
   "source": [
    "class Person:\n",
    "    def __init__(self, name, age=10):\n",
    "        print(self, 'is generated')\n",
    "        self.name = name #self.name은 Person, name은 외부 변수\n",
    "        self.age = age\n",
    "        self.hobby = 'singing'"
   ]
  },
  {
   "cell_type": "code",
   "execution_count": 22,
   "metadata": {},
   "outputs": [
    {
     "name": "stdout",
     "output_type": "stream",
     "text": [
      "<__main__.Person object at 0x000001C79D968748> is generated\n",
      "<__main__.Person object at 0x000001C79D968708> is generated\n",
      "<__main__.Person object at 0x000001C79D968788> is generated\n"
     ]
    }
   ],
   "source": [
    "p1 = Person('bob',30)\n",
    "p2 = Person('kang', 52)\n",
    "p3 = Person('kim')"
   ]
  },
  {
   "cell_type": "code",
   "execution_count": 23,
   "metadata": {},
   "outputs": [
    {
     "name": "stdout",
     "output_type": "stream",
     "text": [
      "trip\n"
     ]
    }
   ],
   "source": [
    "p1.hobby = 'trip'\n",
    "print(p1.hobby)"
   ]
  },
  {
   "cell_type": "code",
   "execution_count": 24,
   "metadata": {},
   "outputs": [
    {
     "name": "stdout",
     "output_type": "stream",
     "text": [
      "kang 52 singing\n"
     ]
    }
   ],
   "source": [
    "print(p2.name, p2.age, p2.hobby)"
   ]
  },
  {
   "cell_type": "markdown",
   "metadata": {},
   "source": [
    "## 멤버 함수(instance method) 만들기"
   ]
  },
  {
   "cell_type": "code",
   "execution_count": 25,
   "metadata": {},
   "outputs": [],
   "source": [
    "class Counter:\n",
    "    def __init__(self, num): #생성자 고정, 반드시 self 먼저\n",
    "        self.num = num\n",
    "    \n",
    "    def Increment(self): #클래스 내부에서 필수\n",
    "        self.num +=1\n",
    "        \n",
    "    def Decrement(self):\n",
    "        self.num -=1\n",
    "        \n",
    "    def Reset(self):\n",
    "        self.num = 0\n",
    "    \n",
    "    def InputValue(self, num):\n",
    "        self.num = num\n",
    "        \n",
    "    def PrintCurrentValue(self):\n",
    "        print('value =', self.num)"
   ]
  },
  {
   "cell_type": "code",
   "execution_count": 26,
   "metadata": {},
   "outputs": [],
   "source": [
    "c1 = Counter(10)\n",
    "c2 = Counter(20)"
   ]
  },
  {
   "cell_type": "code",
   "execution_count": 27,
   "metadata": {},
   "outputs": [
    {
     "name": "stdout",
     "output_type": "stream",
     "text": [
      "value =  10\n",
      "value =  20\n"
     ]
    }
   ],
   "source": [
    "c1.PrintCurrentValue()\n",
    "c2.PrintCurrentValue()"
   ]
  },
  {
   "cell_type": "code",
   "execution_count": 28,
   "metadata": {},
   "outputs": [
    {
     "name": "stdout",
     "output_type": "stream",
     "text": [
      "value =  12\n",
      "value =  21\n"
     ]
    }
   ],
   "source": [
    "c1.Increment()\n",
    "c1.Increment()\n",
    "c2.Increment()\n",
    "\n",
    "c1.PrintCurrentValue()\n",
    "c2.PrintCurrentValue()"
   ]
  },
  {
   "cell_type": "markdown",
   "metadata": {},
   "source": [
    "## static method 만들기"
   ]
  },
  {
   "cell_type": "code",
   "execution_count": 29,
   "metadata": {},
   "outputs": [],
   "source": [
    "class Computer:\n",
    "    def add(self, x, y):\n",
    "        return (x+y)\n",
    "    def sub(self, x, y):\n",
    "        return (x-y)"
   ]
  },
  {
   "cell_type": "code",
   "execution_count": 30,
   "metadata": {},
   "outputs": [],
   "source": [
    "c1 = Computer()"
   ]
  },
  {
   "cell_type": "code",
   "execution_count": 31,
   "metadata": {},
   "outputs": [
    {
     "name": "stdout",
     "output_type": "stream",
     "text": [
      "30\n",
      "-10\n"
     ]
    }
   ],
   "source": [
    "print(c1.add(10,20))\n",
    "print(c1.sub(10,20))"
   ]
  },
  {
   "cell_type": "code",
   "execution_count": 32,
   "metadata": {},
   "outputs": [],
   "source": [
    "class Computer:\n",
    "    @staticmethod\n",
    "    def add(x,y):\n",
    "        return (x+y)\n",
    "    @staticmethod\n",
    "    def sub(x,y):\n",
    "        return (x-y)\n",
    "#오브젝트를 만들지 않고 사용가능, self없이 가능"
   ]
  },
  {
   "cell_type": "code",
   "execution_count": 33,
   "metadata": {},
   "outputs": [
    {
     "name": "stdout",
     "output_type": "stream",
     "text": [
      "30\n",
      "-10\n"
     ]
    }
   ],
   "source": [
    "print(Computer.add(10,20))\n",
    "print(Computer.sub(10,20))"
   ]
  },
  {
   "cell_type": "markdown",
   "metadata": {},
   "source": [
    "## 클래스 상속"
   ]
  },
  {
   "cell_type": "code",
   "execution_count": 37,
   "metadata": {},
   "outputs": [],
   "source": [
    "class Person:\n",
    "    def __init__(self, name, age):\n",
    "        self.name =name\n",
    "        self.age =age\n",
    "    \n",
    "    def Eat(self, food):\n",
    "        print('{}는 {}를 먹는다'.format(self.name, food))\n",
    "        \n",
    "    def Sleep(self, hours):\n",
    "        print('{}는 {}시간 잔다'. format(self.name, hours))\n",
    "    \n",
    "    def Work(self, hours):\n",
    "        print('{}는 {}시간 일한다'. format(self.name, hours))"
   ]
  },
  {
   "cell_type": "code",
   "execution_count": 38,
   "metadata": {},
   "outputs": [],
   "source": [
    "class Student:\n",
    "    pass\n",
    "\n",
    "class Employee:\n",
    "    pass"
   ]
  },
  {
   "cell_type": "code",
   "execution_count": 39,
   "metadata": {},
   "outputs": [
    {
     "name": "stdout",
     "output_type": "stream",
     "text": [
      "bob는 BBQ를 먹는다\n",
      "bob는 8시간 잔다\n",
      "bob는 10시간 일한다\n"
     ]
    }
   ],
   "source": [
    "bob = Person('bob',30)\n",
    "bob.Eat('BBQ')\n",
    "bob.Sleep(8)\n",
    "bob.Work(10)"
   ]
  },
  {
   "cell_type": "code",
   "execution_count": 49,
   "metadata": {},
   "outputs": [],
   "source": [
    "class Student(Person): #person 클래스의 속성을 받아옴\n",
    "    def __init__(self, name, age):\n",
    "        self.name = name\n",
    "        self.age = age\n",
    "    def Work(self, hours):\n",
    "        super().Work(hours)\n",
    "        print('{}는 {}시간 공부한다'. format(self.name, hours)) #이름이 같으면 현제 클래스에 있는걸로         \n",
    "    \n",
    "class Employee(Person):\n",
    "    def __init__(self, name, age):\n",
    "        self.name = name\n",
    "        self.age = age"
   ]
  },
  {
   "cell_type": "code",
   "execution_count": 50,
   "metadata": {},
   "outputs": [],
   "source": [
    "bob = Student('bob', 30)"
   ]
  },
  {
   "cell_type": "code",
   "execution_count": 51,
   "metadata": {},
   "outputs": [
    {
     "name": "stdout",
     "output_type": "stream",
     "text": [
      "bob는 불고기를 먹는다\n",
      "bob는 24시간 잔다\n",
      "bob는 20시간 일한다\n",
      "bob는 20시간 공부한다\n"
     ]
    }
   ],
   "source": [
    "bob.Eat('불고기')\n",
    "bob.Sleep('24')\n",
    "bob.Work('20')"
   ]
  },
  {
   "cell_type": "code",
   "execution_count": 52,
   "metadata": {},
   "outputs": [
    {
     "data": {
      "text/plain": [
       "30"
      ]
     },
     "execution_count": 52,
     "metadata": {},
     "output_type": "execute_result"
    }
   ],
   "source": [
    "bob.age"
   ]
  },
  {
   "cell_type": "code",
   "execution_count": 53,
   "metadata": {},
   "outputs": [],
   "source": [
    "class Point2D:\n",
    "    def __init__(self, x, y):\n",
    "        self.x = x\n",
    "        self.y = y\n",
    "    def PrintPt(self):\n",
    "        print('({},{})'.format(self.x, self.y))"
   ]
  },
  {
   "cell_type": "code",
   "execution_count": 54,
   "metadata": {},
   "outputs": [
    {
     "name": "stdout",
     "output_type": "stream",
     "text": [
      "(3,5)\n",
      "(1,-1)\n"
     ]
    }
   ],
   "source": [
    "p1 = Point2D(3,5)\n",
    "p2 = Point2D(1,-1)\n",
    "\n",
    "p1.PrintPt()\n",
    "p2.PrintPt()"
   ]
  },
  {
   "cell_type": "code",
   "execution_count": 55,
   "metadata": {},
   "outputs": [
    {
     "name": "stdout",
     "output_type": "stream",
     "text": [
      "<__main__.Point2D object at 0x000001C79E744748>\n"
     ]
    }
   ],
   "source": [
    "print(p1)"
   ]
  },
  {
   "cell_type": "code",
   "execution_count": 58,
   "metadata": {},
   "outputs": [],
   "source": [
    "class Point2D:\n",
    "    def __init__(self, x, y):\n",
    "        self.x = x\n",
    "        self.y = y\n",
    "    def __str__(self):\n",
    "        return ('({},{})'.format(self.x, self.y))"
   ]
  },
  {
   "cell_type": "code",
   "execution_count": 59,
   "metadata": {},
   "outputs": [
    {
     "name": "stdout",
     "output_type": "stream",
     "text": [
      "(3,5)\n"
     ]
    }
   ],
   "source": [
    "p1 = Point2D(3,5)\n",
    "print(p1)"
   ]
  },
  {
   "cell_type": "code",
   "execution_count": 60,
   "metadata": {},
   "outputs": [
    {
     "name": "stdout",
     "output_type": "stream",
     "text": [
      "(1,-100)\n"
     ]
    }
   ],
   "source": [
    "p2 = Point2D(1,-100)\n",
    "print(p2)"
   ]
  },
  {
   "cell_type": "code",
   "execution_count": 61,
   "metadata": {},
   "outputs": [],
   "source": [
    "class Point2D:\n",
    "    def __init__(self, x, y):\n",
    "        self.x = x\n",
    "        self.y = y\n",
    "        \n",
    "    def Add(self, pt):\n",
    "        new_x = self.x + pt.x\n",
    "        new_y = self.y + pt.y\n",
    "        return Point2D(new_x, new_y)\n",
    "    \n",
    "    def __str__(self):\n",
    "        return ('({},{})'.format(self.x, self.y))"
   ]
  },
  {
   "cell_type": "code",
   "execution_count": 62,
   "metadata": {},
   "outputs": [
    {
     "name": "stdout",
     "output_type": "stream",
     "text": [
      "(3,5)\n",
      "(1,-1)\n",
      "(4,4)\n"
     ]
    }
   ],
   "source": [
    "p1 = Point2D(3,5)\n",
    "p2 = Point2D(1, -1)\n",
    "\n",
    "p3 = p1.Add(p2)\n",
    "\n",
    "print(p1)\n",
    "print(p2)\n",
    "print(p3)"
   ]
  },
  {
   "cell_type": "code",
   "execution_count": 63,
   "metadata": {},
   "outputs": [],
   "source": [
    "class Point2D:\n",
    "    def __init__(self, x, y):\n",
    "        self.x = x\n",
    "        self.y = y\n",
    "        \n",
    "    def __add__(self, pt):\n",
    "        new_x = self.x + pt.x\n",
    "        new_y = self.y + pt.y\n",
    "        return Point2D(new_x, new_y)\n",
    "    \n",
    "    def __str__(self):\n",
    "        return ('({},{})'.format(self.x, self.y))"
   ]
  },
  {
   "cell_type": "code",
   "execution_count": 64,
   "metadata": {},
   "outputs": [],
   "source": [
    "p1 = Point2D(3,5)\n",
    "p2 = Point2D(1, -1)"
   ]
  },
  {
   "cell_type": "code",
   "execution_count": 65,
   "metadata": {},
   "outputs": [
    {
     "name": "stdout",
     "output_type": "stream",
     "text": [
      "(4,4)\n"
     ]
    }
   ],
   "source": [
    "p3 = p1 + p2\n",
    "print(p3)"
   ]
  },
  {
   "cell_type": "code",
   "execution_count": 66,
   "metadata": {},
   "outputs": [],
   "source": [
    "class Point2D:\n",
    "    def __init__(self, x, y):\n",
    "        self.x = x\n",
    "        self.y = y\n",
    "        \n",
    "    def __add__(self, pt):\n",
    "        new_x = self.x + pt.x\n",
    "        new_y = self.y + pt.y\n",
    "        return Point2D(new_x, new_y)\n",
    "    \n",
    "    def __sub__(self, pt):\n",
    "        new_x = self.x - pt.x\n",
    "        new_y = self.y - pt.y\n",
    "        return Point2D(new_x, new_y)\n",
    "    \n",
    "    def __str__(self):\n",
    "        return ('({},{})'.format(self.x, self.y))"
   ]
  },
  {
   "cell_type": "code",
   "execution_count": 67,
   "metadata": {},
   "outputs": [
    {
     "name": "stdout",
     "output_type": "stream",
     "text": [
      "(2,6)\n"
     ]
    }
   ],
   "source": [
    "p1 = Point2D(3,5)\n",
    "p2 = Point2D(1, -1)\n",
    "\n",
    "p3 = p1 - p2\n",
    "print(p3)"
   ]
  },
  {
   "cell_type": "markdown",
   "metadata": {},
   "source": [
    "overriding 함수 참고 링크: https://docs.python.org/3/reference/datamodel.html"
   ]
  },
  {
   "cell_type": "code",
   "execution_count": 72,
   "metadata": {},
   "outputs": [],
   "source": [
    "class ComplexNum:\n",
    "    def __init__(self, real, img):\n",
    "        self.real = real\n",
    "        self.img = img\n",
    "        \n",
    "    def __str__(self):\n",
    "        if self.img >= 0:\n",
    "            return '{}+j{}'.format(self.real, self.img)\n",
    "        else: \n",
    "            return '{}-j{}'.format(self.real, abs(self.img))"
   ]
  },
  {
   "cell_type": "code",
   "execution_count": 73,
   "metadata": {},
   "outputs": [],
   "source": [
    "cpx1= ComplexNum(1,2)\n",
    "cpx2= ComplexNum(1,-2)"
   ]
  },
  {
   "cell_type": "code",
   "execution_count": 74,
   "metadata": {},
   "outputs": [
    {
     "name": "stdout",
     "output_type": "stream",
     "text": [
      "1+j2 1-j2\n"
     ]
    }
   ],
   "source": [
    "print(cpx1, cpx2)"
   ]
  },
  {
   "cell_type": "code",
   "execution_count": 75,
   "metadata": {},
   "outputs": [],
   "source": [
    "class ComplexNum:\n",
    "    def __init__(self, real, img):\n",
    "        self.real = real\n",
    "        self.img = img\n",
    "    \n",
    "    def __add__(self,cpx):\n",
    "        new_real = self.real + cpx.real\n",
    "        new_img = self.img + cpx.img\n",
    "        return ComplexNum(new_real, new_img)\n",
    "    \n",
    "    def __sub__(self,cpx):\n",
    "        new_real = self.real - cpx.real\n",
    "        new_img = self.img - cpx.img\n",
    "        return ComplexNum(new_real, new_img)\n",
    "    \n",
    "    def __str__(self):\n",
    "        if self.img >= 0:\n",
    "            return '{}+j{}'.format(self.real, self.img)\n",
    "        else: \n",
    "            return '{}-j{}'.format(self.real, abs(self.img))"
   ]
  },
  {
   "cell_type": "code",
   "execution_count": 76,
   "metadata": {},
   "outputs": [
    {
     "name": "stdout",
     "output_type": "stream",
     "text": [
      "2+j0,0+j4\n"
     ]
    }
   ],
   "source": [
    "cpx1= ComplexNum(1,2)\n",
    "cpx2= ComplexNum(1,-2)\n",
    "\n",
    "a = cpx1 + cpx2\n",
    "b = cpx1 - cpx2\n",
    "\n",
    "print(a, b, sep=', ')"
   ]
  },
  {
   "cell_type": "code",
   "execution_count": 80,
   "metadata": {},
   "outputs": [],
   "source": [
    "class ComplexNum:\n",
    "    def __init__(self, real, img):\n",
    "        self.real = real\n",
    "        self.img = img\n",
    "    \n",
    "    def __add__(self,cpx):\n",
    "        new_real = self.real + cpx.real\n",
    "        new_img = self.img + cpx.img\n",
    "        return ComplexNum(new_real, new_img)\n",
    "    \n",
    "    def __sub__(self,cpx):\n",
    "        new_real = self.real - cpx.real\n",
    "        new_img = self.img - cpx.img\n",
    "        return ComplexNum(new_real, new_img)\n",
    "    \n",
    "    def __mul__(self, cpx): #(x+jy)*(a+jb)\n",
    "        new_real = self.real * cpx.real - self.img * cpx.img\n",
    "        new_img = self.real * cpx.img + self.img * cpx.real\n",
    "        return ComplexNum(new_real, new_img)\n",
    "    \n",
    "    def __eq__(self, cpx):\n",
    "        return self.real == cpx.real and self.img == cpx.img\n",
    "    \n",
    "    def __ne__(self, cpx):\n",
    "        return self.real != cpx.real or self.img != cpx.img\n",
    "    \n",
    "    def __abs__(self):\n",
    "        return sqrt(self.real**2 + self.img**2) #from math import *\n",
    "        #return math.sqrt(self.real**2 + self.img**2)\n",
    "    \n",
    "    def __str__(self):\n",
    "        if self.img >= 0:\n",
    "            return '{}+j{}'.format(self.real, self.img)\n",
    "        else: \n",
    "            return '{}-j{}'.format(self.real, abs(self.img))"
   ]
  },
  {
   "cell_type": "code",
   "execution_count": 81,
   "metadata": {},
   "outputs": [
    {
     "name": "stdout",
     "output_type": "stream",
     "text": [
      "5+j0\n"
     ]
    }
   ],
   "source": [
    "cpx1= ComplexNum(1,2)\n",
    "cpx2= ComplexNum(1,-2)\n",
    "\n",
    "c= cpx1 * cpx2\n",
    "print(c)"
   ]
  },
  {
   "cell_type": "code",
   "execution_count": 79,
   "metadata": {},
   "outputs": [
    {
     "name": "stdout",
     "output_type": "stream",
     "text": [
      "False True\n"
     ]
    }
   ],
   "source": [
    "d = (cpx1 == cpx2)\n",
    "e = (cpx1 != cpx2)\n",
    "print(d, e)"
   ]
  },
  {
   "cell_type": "code",
   "execution_count": 82,
   "metadata": {},
   "outputs": [
    {
     "name": "stdout",
     "output_type": "stream",
     "text": [
      "2.23606797749979\n"
     ]
    }
   ],
   "source": [
    "f= abs(cpx1)\n",
    "print(f)"
   ]
  },
  {
   "cell_type": "code",
   "execution_count": null,
   "metadata": {},
   "outputs": [],
   "source": []
  }
 ],
 "metadata": {
  "kernelspec": {
   "display_name": "Python 3",
   "language": "python",
   "name": "python3"
  },
  "language_info": {
   "codemirror_mode": {
    "name": "ipython",
    "version": 3
   },
   "file_extension": ".py",
   "mimetype": "text/x-python",
   "name": "python",
   "nbconvert_exporter": "python",
   "pygments_lexer": "ipython3",
   "version": "3.7.9"
  }
 },
 "nbformat": 4,
 "nbformat_minor": 4
}
