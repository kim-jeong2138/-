{
 "cells": [
  {
   "cell_type": "code",
   "execution_count": 1,
   "metadata": {},
   "outputs": [],
   "source": [
    "import numpy as np\n",
    "import tensorflow as tf\n",
    "import matplotlib.pyplot as plt\n",
    "%matplotlib inline"
   ]
  },
  {
   "cell_type": "code",
   "execution_count": 2,
   "metadata": {},
   "outputs": [],
   "source": [
    "from tensorflow.keras import datasets\n",
    "\n",
    "(train_x, train_y), (test_x, test_y) = datasets.mnist.load_data()"
   ]
  },
  {
   "cell_type": "code",
   "execution_count": 3,
   "metadata": {},
   "outputs": [],
   "source": [
    "batch_size= 8"
   ]
  },
  {
   "cell_type": "code",
   "execution_count": 4,
   "metadata": {},
   "outputs": [
    {
     "data": {
      "text/plain": [
       "(8, 28, 28)"
      ]
     },
     "execution_count": 4,
     "metadata": {},
     "output_type": "execute_result"
    }
   ],
   "source": [
    "t_img= train_x[0:batch_size]\n",
    "t_img.shape"
   ]
  },
  {
   "cell_type": "code",
   "execution_count": 5,
   "metadata": {},
   "outputs": [
    {
     "data": {
      "text/plain": [
       "((8, 28, 28, 1), dtype('uint8'))"
      ]
     },
     "execution_count": 5,
     "metadata": {},
     "output_type": "execute_result"
    }
   ],
   "source": [
    "t_img = t_img[...,tf.newaxis]\n",
    "t_img.shape, t_img.dtype"
   ]
  },
  {
   "cell_type": "code",
   "execution_count": 6,
   "metadata": {},
   "outputs": [
    {
     "data": {
      "text/plain": [
       "dtype('float32')"
      ]
     },
     "execution_count": 6,
     "metadata": {},
     "output_type": "execute_result"
    }
   ],
   "source": [
    "t_img=t_img.astype(dtype=np.float32)\n",
    "t_img.dtype"
   ]
  },
  {
   "cell_type": "code",
   "execution_count": 7,
   "metadata": {},
   "outputs": [],
   "source": [
    "act_layer= tf.keras.layers.ReLU()\n",
    "act_output= act_layer(t_img)"
   ]
  },
  {
   "cell_type": "code",
   "execution_count": 8,
   "metadata": {},
   "outputs": [
    {
     "data": {
      "text/plain": [
       "TensorShape([8, 28, 28, 1])"
      ]
     },
     "execution_count": 8,
     "metadata": {},
     "output_type": "execute_result"
    }
   ],
   "source": [
    "act_output.shape"
   ]
  },
  {
   "cell_type": "code",
   "execution_count": 9,
   "metadata": {},
   "outputs": [
    {
     "data": {
      "text/plain": [
       "(TensorShape([8, 14, 14, 1]), tf.float32)"
      ]
     },
     "execution_count": 9,
     "metadata": {},
     "output_type": "execute_result"
    }
   ],
   "source": [
    "pool_layer= tf.keras.layers.MaxPool2D(pool_size=(2,2), strides=(2,2), padding='SAME')\n",
    "pool_output= pool_layer(act_output)\n",
    "pool_output.shape, pool_output.dtype"
   ]
  },
  {
   "cell_type": "code",
   "execution_count": 10,
   "metadata": {},
   "outputs": [],
   "source": [
    "# pool_layer= tf.keras.layers.MaxPooling2D(pool_size=(2,2), strides=(2,2), padding='SAME')\n",
    "# pool_output= pool_layer(act_output)\n",
    "# pool_output.shape, "
   ]
  },
  {
   "cell_type": "markdown",
   "metadata": {},
   "source": [
    "## fully connected layer(dense layer), FC layer"
   ]
  },
  {
   "cell_type": "code",
   "execution_count": 11,
   "metadata": {},
   "outputs": [
    {
     "data": {
      "text/plain": [
       "TensorShape([8, 196])"
      ]
     },
     "execution_count": 11,
     "metadata": {},
     "output_type": "execute_result"
    }
   ],
   "source": [
    "flatten_layer =tf.keras.layers.Flatten()\n",
    "flatten_output=flatten_layer(pool_output)\n",
    "flatten_output.shape"
   ]
  },
  {
   "cell_type": "code",
   "execution_count": 12,
   "metadata": {},
   "outputs": [],
   "source": [
    "dense_layer1=tf.keras.layers.Dense(128,activation='relu')\n",
    "dense_output1=dense_layer1(flatten_output)"
   ]
  },
  {
   "cell_type": "code",
   "execution_count": 13,
   "metadata": {},
   "outputs": [],
   "source": [
    "dense_layer2=tf.keras.layers.Dense(32,activation='relu')\n",
    "dense_output2=dense_layer2(dense_output1)"
   ]
  },
  {
   "cell_type": "code",
   "execution_count": 14,
   "metadata": {},
   "outputs": [],
   "source": [
    "dense_layer3=tf.keras.layers.Dense(16,activation='relu')\n",
    "dense_output3=dense_layer3(dense_output2)"
   ]
  },
  {
   "cell_type": "code",
   "execution_count": 15,
   "metadata": {},
   "outputs": [
    {
     "data": {
      "text/plain": [
       "(TensorShape([8, 128]), TensorShape([8, 32]), TensorShape([8, 16]))"
      ]
     },
     "execution_count": 15,
     "metadata": {},
     "output_type": "execute_result"
    }
   ],
   "source": [
    "dense_output1.shape, dense_output2.shape, dense_output3.shape"
   ]
  },
  {
   "cell_type": "code",
   "execution_count": 16,
   "metadata": {},
   "outputs": [
    {
     "data": {
      "text/plain": [
       "TensorShape([8, 16])"
      ]
     },
     "execution_count": 16,
     "metadata": {},
     "output_type": "execute_result"
    }
   ],
   "source": [
    "drop_layer=tf.keras.layers.Dropout(0.25)\n",
    "drop_output=drop_layer(dense_output3)\n",
    "drop_output.shape"
   ]
  },
  {
   "cell_type": "code",
   "execution_count": 17,
   "metadata": {},
   "outputs": [
    {
     "data": {
      "text/plain": [
       "(TensorShape([8, 16]), TensorShape([8, 16]))"
      ]
     },
     "execution_count": 17,
     "metadata": {},
     "output_type": "execute_result"
    }
   ],
   "source": [
    "drop_output.shape, dense_output3.shape"
   ]
  },
  {
   "cell_type": "markdown",
   "metadata": {},
   "source": [
    "## 모델 만들기"
   ]
  },
  {
   "cell_type": "code",
   "execution_count": 18,
   "metadata": {},
   "outputs": [],
   "source": [
    "from tensorflow.keras import layers"
   ]
  },
  {
   "cell_type": "code",
   "execution_count": 19,
   "metadata": {},
   "outputs": [],
   "source": [
    "input_shape=(28,28,1)#모델 만들 때,batch_size는 고려하지 않음(height, width,channels)\n",
    "num_classes=10"
   ]
  },
  {
   "cell_type": "code",
   "execution_count": 25,
   "metadata": {},
   "outputs": [],
   "source": [
    "inputs= layers.Input(shape=input_shape) #inputlayer\n",
    "#cv_layer1=layers.Conv2D(filters=32, kernel_size=(3,3),padding='SAME')\n",
    "cv_layer1=layers.Conv2D(32,3,1,padding='SAME')\n",
    "cv_1_output=cv_layer1(inputs)\n",
    "\n",
    "cv1_act_layer= layers.Activation('relu')\n",
    "cv_1_act_output=cv1_act_layer(cv_1_output)"
   ]
  },
  {
   "cell_type": "code",
   "execution_count": 26,
   "metadata": {},
   "outputs": [],
   "source": [
    "cv_layer2=layers.Conv2D(32,3,1,padding='SAME')\n",
    "cv_2_output=cv_layer2(cv_1_act_output)\n",
    "\n",
    "cv2_act_layer= layers.Activation('relu')\n",
    "cv_2_act_output=cv2_act_layer(cv_2_output)"
   ]
  },
  {
   "cell_type": "code",
   "execution_count": 27,
   "metadata": {},
   "outputs": [],
   "source": [
    "cv_layer3=layers.Conv2D(32,3,1,padding='SAME')\n",
    "cv_3_output=cv_layer2(cv_2_act_output)\n",
    "\n",
    "cv3_act_layer= layers.Activation('relu')\n",
    "cv_3_act_output=cv3_act_layer(cv_3_output)"
   ]
  },
  {
   "cell_type": "markdown",
   "metadata": {},
   "source": [
    "### 간단한 모양으로 표현하기"
   ]
  },
  {
   "cell_type": "code",
   "execution_count": 28,
   "metadata": {},
   "outputs": [],
   "source": [
    "cv_1_ouput=layers.Conv2D(32,3,1,padding='SAME')(inputs)\n",
    "cv_1_act_output= layers.Activation('relu')(cv_1_output)"
   ]
  },
  {
   "cell_type": "code",
   "execution_count": 29,
   "metadata": {},
   "outputs": [],
   "source": [
    "cv_2_ouput=layers.Conv2D(32,3,1,padding='SAME')(cv_1_act_output)\n",
    "cv_2_act_output= layers.Activation('relu')(cv_2_output)"
   ]
  },
  {
   "cell_type": "code",
   "execution_count": 30,
   "metadata": {},
   "outputs": [],
   "source": [
    "cv_3_ouput=layers.Conv2D(32,3,1,padding='SAME')(cv_2_act_output)\n",
    "cv_3_act_output= layers.Activation('relu')(cv_3_output)"
   ]
  },
  {
   "cell_type": "markdown",
   "metadata": {},
   "source": [
    "### 더 간단한 모양"
   ]
  },
  {
   "cell_type": "code",
   "execution_count": 103,
   "metadata": {},
   "outputs": [],
   "source": [
    "def mymodel(input_shape, num_classes):\n",
    "    inputs= layers.Input(shape=input_shape)\n",
    "\n",
    "    #cnn의 역할: feature extraction, feature map을 만들어주는 역할 \n",
    "    net = layers.Conv2D(32,3,1,padding='SAME')(inputs)\n",
    "    net = layers.Activation('relu')(net)\n",
    "    net = layers.MaxPool2D(pool_size=(2,2))(net)\n",
    "    net = layers.Dropout(0.25)(net)\n",
    "\n",
    "    net = layers.Conv2D(32,3,1,padding='SAME')(net)\n",
    "    net = layers.Activation('relu')(net)\n",
    "    net = layers.MaxPool2D(pool_size=(2,2))(net)\n",
    "    net = layers.Dropout(0.25)(net)#학습시에만 사용됨\n",
    "\n",
    "    net = layers.Conv2D(16,3,1,padding='SAME')(net)\n",
    "    net = layers.Activation('relu')(net)\n",
    "    net = layers.MaxPool2D(pool_size=(2,2))(net)\n",
    "    net = layers.Dropout(0.25)(net)\n",
    "\n",
    "    net = layers.Conv2D(8,3,1,padding='SAME')(net)\n",
    "    net = layers.Activation('relu')(net)\n",
    "    net = layers.MaxPool2D(pool_size=(2,2))(net)\n",
    "    net = layers.Dropout(0.25)(net)\n",
    "\n",
    "    net = layers.Flatten()(net) #2D->1D\n",
    "\n",
    "    net = layers.Dense(512)(net)\n",
    "    net = layers.Activation('relu')(net)\n",
    "    net = layers.Dropout(0.25)(net)\n",
    "\n",
    "    net = layers.Dense(128)(net)\n",
    "    net = layers.Activation('relu')(net)\n",
    "    net = layers.Dropout(0.25)(net)\n",
    "\n",
    "    net = layers.Dense(num_classes)(net)\n",
    "    net = layers.Activation('softmax')(net)#0-1사이로 만들어줌\n",
    "\n",
    "    model = tf.keras.Model(inputs=inputs, outputs= net, name='test')\n",
    "    \n",
    "    return model"
   ]
  },
  {
   "cell_type": "code",
   "execution_count": 104,
   "metadata": {},
   "outputs": [
    {
     "name": "stdout",
     "output_type": "stream",
     "text": [
      "Model: \"test\"\n",
      "_________________________________________________________________\n",
      "Layer (type)                 Output Shape              Param #   \n",
      "=================================================================\n",
      "input_8 (InputLayer)         [(None, 28, 28, 1)]       0         \n",
      "_________________________________________________________________\n",
      "conv2d_27 (Conv2D)           (None, 28, 28, 32)        320       \n",
      "_________________________________________________________________\n",
      "activation_35 (Activation)   (None, 28, 28, 32)        0         \n",
      "_________________________________________________________________\n",
      "max_pooling2d_13 (MaxPooling (None, 14, 14, 32)        0         \n",
      "_________________________________________________________________\n",
      "dropout_19 (Dropout)         (None, 14, 14, 32)        0         \n",
      "_________________________________________________________________\n",
      "conv2d_28 (Conv2D)           (None, 14, 14, 32)        9248      \n",
      "_________________________________________________________________\n",
      "activation_36 (Activation)   (None, 14, 14, 32)        0         \n",
      "_________________________________________________________________\n",
      "max_pooling2d_14 (MaxPooling (None, 7, 7, 32)          0         \n",
      "_________________________________________________________________\n",
      "dropout_20 (Dropout)         (None, 7, 7, 32)          0         \n",
      "_________________________________________________________________\n",
      "conv2d_29 (Conv2D)           (None, 7, 7, 16)          4624      \n",
      "_________________________________________________________________\n",
      "activation_37 (Activation)   (None, 7, 7, 16)          0         \n",
      "_________________________________________________________________\n",
      "max_pooling2d_15 (MaxPooling (None, 3, 3, 16)          0         \n",
      "_________________________________________________________________\n",
      "dropout_21 (Dropout)         (None, 3, 3, 16)          0         \n",
      "_________________________________________________________________\n",
      "conv2d_30 (Conv2D)           (None, 3, 3, 8)           1160      \n",
      "_________________________________________________________________\n",
      "activation_38 (Activation)   (None, 3, 3, 8)           0         \n",
      "_________________________________________________________________\n",
      "max_pooling2d_16 (MaxPooling (None, 1, 1, 8)           0         \n",
      "_________________________________________________________________\n",
      "dropout_22 (Dropout)         (None, 1, 1, 8)           0         \n",
      "_________________________________________________________________\n",
      "flatten_4 (Flatten)          (None, 8)                 0         \n",
      "_________________________________________________________________\n",
      "dense_12 (Dense)             (None, 512)               4608      \n",
      "_________________________________________________________________\n",
      "activation_39 (Activation)   (None, 512)               0         \n",
      "_________________________________________________________________\n",
      "dropout_23 (Dropout)         (None, 512)               0         \n",
      "_________________________________________________________________\n",
      "dense_13 (Dense)             (None, 128)               65664     \n",
      "_________________________________________________________________\n",
      "activation_40 (Activation)   (None, 128)               0         \n",
      "_________________________________________________________________\n",
      "dropout_24 (Dropout)         (None, 128)               0         \n",
      "_________________________________________________________________\n",
      "dense_14 (Dense)             (None, 10)                1290      \n",
      "_________________________________________________________________\n",
      "activation_41 (Activation)   (None, 10)                0         \n",
      "=================================================================\n",
      "Total params: 86,914\n",
      "Trainable params: 86,914\n",
      "Non-trainable params: 0\n",
      "_________________________________________________________________\n"
     ]
    }
   ],
   "source": [
    "model=mymodel(input_shape, num_classes)\n",
    "model.summary() \n",
    "#para:((3*3*32)+1)*32"
   ]
  },
  {
   "cell_type": "code",
   "execution_count": 43,
   "metadata": {},
   "outputs": [],
   "source": [
    "# train_img = train_x[0:batch_size]\n",
    "\n",
    "# train_img.shape\n",
    "\n",
    "# train_img= np.expand_dims(train_img, axis=-1) #train_img=train_img[...,tf.newaxis]\n",
    "# train_img.shape\n",
    "\n",
    "# train_img = train_img.astype(np.float32)\n",
    "# train_img.dtype\n",
    "\n",
    "# np.max(train_img), np.min(train_img)\n",
    "\n",
    "# plt.imshow(train_img[0,:,:,0],'gray')"
   ]
  },
  {
   "cell_type": "code",
   "execution_count": 51,
   "metadata": {},
   "outputs": [
    {
     "data": {
      "text/plain": [
       "((60000, 28, 28), (60000,))"
      ]
     },
     "execution_count": 51,
     "metadata": {},
     "output_type": "execute_result"
    }
   ],
   "source": [
    "train_x.shape, train_y.shape"
   ]
  },
  {
   "cell_type": "code",
   "execution_count": 52,
   "metadata": {},
   "outputs": [
    {
     "data": {
      "text/plain": [
       "array([5, 0, 4, 1, 9, 2, 1, 3, 1, 4], dtype=uint8)"
      ]
     },
     "execution_count": 52,
     "metadata": {},
     "output_type": "execute_result"
    }
   ],
   "source": [
    "train_y[0:10]"
   ]
  },
  {
   "cell_type": "code",
   "execution_count": 53,
   "metadata": {},
   "outputs": [
    {
     "data": {
      "text/plain": [
       "0"
      ]
     },
     "execution_count": 53,
     "metadata": {},
     "output_type": "execute_result"
    },
    {
     "data": {
      "image/png": "[encoded data removed]",
      "text/plain": [
       "<Figure size 432x288 with 1 Axes>"
      ]
     },
     "metadata": {
      "needs_background": "light"
     },
     "output_type": "display_data"
    }
   ],
   "source": [
    "plt.imshow(train_x[1])\n",
    "train_y[1]"
   ]
  },
  {
   "cell_type": "code",
   "execution_count": 54,
   "metadata": {},
   "outputs": [
    {
     "data": {
      "text/plain": [
       "(60000, 28, 28, 1)"
      ]
     },
     "execution_count": 54,
     "metadata": {},
     "output_type": "execute_result"
    }
   ],
   "source": [
    "train_x_4d = train_x[...,tf.newaxis]\n",
    "train_x_4d.shape"
   ]
  },
  {
   "cell_type": "code",
   "execution_count": 55,
   "metadata": {},
   "outputs": [
    {
     "data": {
      "text/plain": [
       "(1.0, 0.0)"
      ]
     },
     "execution_count": 55,
     "metadata": {},
     "output_type": "execute_result"
    }
   ],
   "source": [
    "train_x_4d = train_x_4d /255 #0과 1사이의 값으로 scaling\n",
    "np.max(train_x_4d), np.min(train_x_4d)"
   ]
  },
  {
   "cell_type": "code",
   "execution_count": 56,
   "metadata": {},
   "outputs": [
    {
     "data": {
      "text/plain": [
       "dtype('float64')"
      ]
     },
     "execution_count": 56,
     "metadata": {},
     "output_type": "execute_result"
    }
   ],
   "source": [
    "train_x_4d.dtype"
   ]
  },
  {
   "cell_type": "code",
   "execution_count": 99,
   "metadata": {},
   "outputs": [],
   "source": [
    "def mymodel2(input_shape):\n",
    "    inputs= layers.Input(shape=input_shape)\n",
    "\n",
    "    #cnn의 역할: feature extraction, feature map을 만들어주는 역할 \n",
    "    net = layers.Conv2D(32,3,1,padding='SAME')(inputs)\n",
    "    net = layers.Activation('relu')(net)\n",
    "    net = layers.Conv2D(32,3,1,padding='SAME')(net)\n",
    "    net = layers.Activation('relu')(net)\n",
    "    net = layers.MaxPool2D(pool_size=(2,2))(net)\n",
    "    net = layers.Dropout(0.25)(net)\n",
    "\n",
    "    net = layers.Conv2D(64,3,1,padding='SAME')(net)\n",
    "    net = layers.Activation('relu')(net)\n",
    "    net = layers.Conv2D(64,3,1,padding='SAME')(net)\n",
    "    net = layers.Activation('relu')(net)\n",
    "    net = layers.MaxPool2D(pool_size=(2,2))(net)\n",
    "    net = layers.Dropout(0.25)(net)\n",
    "\n",
    "    net = layers.Flatten()(net) #2D->1D\n",
    "    net = layers.Dense(512)(net)\n",
    "    net = layers.Activation('relu')(net)\n",
    "    net = layers.Dropout(0.25)(net)\n",
    "#     net = layers.Dense(128)(net)\n",
    "#     net = layers.Activation('relu')(net)\n",
    "    net = layers.Dense(num_classes)(net)\n",
    "    net = layers.Activation('softmax')(net)\n",
    "\n",
    "    model = tf.keras.Model(inputs=inputs, outputs= net, name='test')\n",
    "    return model"
   ]
  },
  {
   "cell_type": "code",
   "execution_count": 100,
   "metadata": {},
   "outputs": [],
   "source": [
    "model.compile(optimizer=tf.keras.optimizers.Adam(), loss='sparse_categorical_crossentropy', metrics=['accuracy'])"
   ]
  },
  {
   "cell_type": "code",
   "execution_count": 102,
   "metadata": {},
   "outputs": [
    {
     "name": "stdout",
     "output_type": "stream",
     "text": [
      "1875/1875 [==============================] - 105s 56ms/step - loss: 0.3071 - accuracy: 0.9133s - loss: 0.3072 - accura - ETA: 0s - loss: 0.3071 \n"
     ]
    }
   ],
   "source": [
    "num_epoch = 1\n",
    "batch_size= 32#메모리 오류나면 숫자를 줄여보기\n",
    "hist = model.fit(train_x_4d, train_y, batch_size= batch_size, shuffle=True, epochs=num_epoch)"
   ]
  },
  {
   "cell_type": "code",
   "execution_count": 81,
   "metadata": {},
   "outputs": [
    {
     "data": {
      "text/plain": [
       "((10000, 28, 28), (10000,))"
      ]
     },
     "execution_count": 81,
     "metadata": {},
     "output_type": "execute_result"
    }
   ],
   "source": [
    "test_x.shape, test_y.shape"
   ]
  },
  {
   "cell_type": "code",
   "execution_count": 82,
   "metadata": {},
   "outputs": [
    {
     "data": {
      "text/plain": [
       "array([7, 2, 1, 0, 4, 1, 4, 9, 5, 9], dtype=uint8)"
      ]
     },
     "execution_count": 82,
     "metadata": {},
     "output_type": "execute_result"
    }
   ],
   "source": [
    "test_y[0:10]"
   ]
  },
  {
   "cell_type": "code",
   "execution_count": 94,
   "metadata": {},
   "outputs": [
    {
     "data": {
      "image/png": "[encoded data removed]",
      "text/plain": [
       "<Figure size 432x288 with 1 Axes>"
      ]
     },
     "metadata": {
      "needs_background": "light"
     },
     "output_type": "display_data"
    }
   ],
   "source": [
    "plt.imshow(test_x[120],'gray')\n",
    "plt.show()"
   ]
  },
  {
   "cell_type": "code",
   "execution_count": 95,
   "metadata": {},
   "outputs": [
    {
     "data": {
      "text/plain": [
       "array([[0.0000000e+00, 0.0000000e+00, 0.0000000e+00, 0.0000000e+00,\n",
       "        0.0000000e+00, 0.0000000e+00, 1.0000000e+00, 0.0000000e+00,\n",
       "        7.2818605e-29, 0.0000000e+00]], dtype=float32)"
      ]
     },
     "execution_count": 95,
     "metadata": {},
     "output_type": "execute_result"
    }
   ],
   "source": [
    "pred = model.predict(test_x[120].reshape(1,28,28,1))\n",
    "pred"
   ]
  },
  {
   "cell_type": "code",
   "execution_count": 96,
   "metadata": {},
   "outputs": [
    {
     "data": {
      "text/plain": [
       "(5, 6)"
      ]
     },
     "execution_count": 96,
     "metadata": {},
     "output_type": "execute_result"
    }
   ],
   "source": [
    "test_y[120], np.argmax(pred)\n",
    "#????"
   ]
  },
  {
   "cell_type": "code",
   "execution_count": 98,
   "metadata": {},
   "outputs": [
    {
     "data": {
      "image/png": "[encoded data removed]",
      "text/plain": [
       "<Figure size 432x288 with 1 Axes>"
      ]
     },
     "metadata": {
      "needs_background": "light"
     },
     "output_type": "display_data"
    },
    {
     "name": "stdout",
     "output_type": "stream",
     "text": [
      "[[0. 0. 0. 0. 0. 0. 0. 0. 0. 1.]]\n",
      "9 9\n"
     ]
    }
   ],
   "source": [
    "plt.imshow(test_x[12],'gray')\n",
    "plt.show()\n",
    "pred = model.predict(test_x[12].reshape(1,28,28,1))\n",
    "print(pred)\n",
    "print(test_y[12], np.argmax(pred))"
   ]
  },
  {
   "cell_type": "code",
   "execution_count": null,
   "metadata": {},
   "outputs": [],
   "source": []
  }
 ],
 "metadata": {
  "kernelspec": {
   "display_name": "Python 3",
   "language": "python",
   "name": "python3"
  },
  "language_info": {
   "codemirror_mode": {
    "name": "ipython",
    "version": 3
   },
   "file_extension": ".py",
   "mimetype": "text/x-python",
   "name": "python",
   "nbconvert_exporter": "python",
   "pygments_lexer": "ipython3",
   "version": "3.7.9"
  }
 },
 "nbformat": 4,
 "nbformat_minor": 4
}
